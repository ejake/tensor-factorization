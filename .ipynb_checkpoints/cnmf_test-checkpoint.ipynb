{
 "cells": [
  {
   "cell_type": "markdown",
   "metadata": {},
   "source": [
    "# Testing Convex-NMF"
   ]
  },
  {
   "cell_type": "code",
   "execution_count": 2,
   "metadata": {
    "collapsed": false
   },
   "outputs": [
    {
     "name": "stdout",
     "output_type": "stream",
     "text": [
      "\n",
      "/opt/anaconda/envs/mindlabenv/lib/python2.7/site-packages/pycuda-2015.1.2-py2.7-linux-x86_64.egg\n",
      "/opt/anaconda/envs/mindlabenv/lib/python2.7/site-packages/appdirs-1.4.0-py2.7.egg\n",
      "/opt/anaconda/envs/mindlabenv/lib/python2.7/site-packages/pytools-2015.1.2-py2.7.egg\n",
      "/opt/anaconda/envs/mindlabenv/lib/python2.7/site-packages/PyBrain-0.3.3-py2.7.egg\n",
      "/opt/anaconda/envs/mindlabenv/lib/python2.7/site-packages/thrift_py-0.9.0-py2.7.egg\n",
      "/opt/anaconda/envs/mindlabenv/lib/python2.7/site-packages/PyMF-0.3-py2.7.egg\n",
      "/opt/anaconda/envs/mindlabenv/lib/python2.7/site-packages/cvxopt-1.1.7-py2.7-linux-x86_64.egg\n",
      "/opt/anaconda/envs/mindlabenv/lib/python2.7/site-packages/argparse-1.3.0-py2.7.egg\n",
      "/opt/pylearn2\n",
      "/opt/opencv-3.0.0/build/lib/python2.7/site-packages\n",
      "/opt/caffe/python\n",
      "/opt/anaconda/envs/mindlabenv/lib/python27.zip\n",
      "/opt/anaconda/envs/mindlabenv/lib/python2.7\n",
      "/opt/anaconda/envs/mindlabenv/lib/python2.7/plat-linux2\n",
      "/opt/anaconda/envs/mindlabenv/lib/python2.7/lib-tk\n",
      "/opt/anaconda/envs/mindlabenv/lib/python2.7/lib-old\n",
      "/opt/anaconda/envs/mindlabenv/lib/python2.7/lib-dynload\n",
      "/opt/anaconda/envs/mindlabenv/lib/python2.7/site-packages/Sphinx-1.3.1-py2.7.egg\n",
      "/opt/anaconda/envs/mindlabenv/lib/python2.7/site-packages\n",
      "/opt/anaconda/envs/mindlabenv/lib/python2.7/site-packages/cryptography-0.9.1-py2.7-linux-x86_64.egg\n",
      "/opt/anaconda/envs/mindlabenv/lib/python2.7/site-packages/setuptools-18.4-py2.7.egg\n",
      "/opt/anaconda/envs/mindlabenv/lib/python2.7/site-packages/IPython/extensions\n"
     ]
    }
   ],
   "source": [
    "import sys\n",
    "print '\\n'.join(sys.path)"
   ]
  },
  {
   "cell_type": "code",
   "execution_count": 2,
   "metadata": {
    "collapsed": false
   },
   "outputs": [
    {
     "name": "stderr",
     "output_type": "stream",
     "text": [
      "Using gpu device 0: Graphics Device (CNMeM is disabled)\n"
     ]
    }
   ],
   "source": [
    "import semantic_methods_toolkit.python.utils.dataset_factory as DatasetFactory\n",
    "import numpy\n",
    "from semantic_methods_toolkit.python.unsupervised_technique.cnmf_experiment import CnmfExperiment"
   ]
  },
  {
   "cell_type": "code",
   "execution_count": null,
   "metadata": {
    "collapsed": true
   },
   "outputs": [],
   "source": [
    "data, labels = DatasetFactory.dataset_factory(\n",
    "    'semantic_methods_toolkit/dataset/iris.mat', options={'data': 'data', 'labels': 'labels'})"
   ]
  }
 ],
 "metadata": {
  "kernelspec": {
   "display_name": "Python 2",
   "language": "python",
   "name": "python2"
  },
  "language_info": {
   "codemirror_mode": {
    "name": "ipython",
    "version": 2
   },
   "file_extension": ".py",
   "mimetype": "text/x-python",
   "name": "python",
   "nbconvert_exporter": "python",
   "pygments_lexer": "ipython2",
   "version": "2.7.10"
  }
 },
 "nbformat": 4,
 "nbformat_minor": 0
}
