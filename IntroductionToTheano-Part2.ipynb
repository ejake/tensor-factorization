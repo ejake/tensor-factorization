{
 "cells": [
  {
   "cell_type": "markdown",
   "metadata": {
    "collapsed": false,
    "slideshow": {
     "slide_type": "slide"
    }
   },
   "source": [
    "<h1 align=\"center\">Introduction to Theano</h1>\n",
    "\n",
    "<h2 align=\"center\">Jorge A. Vanegas</h2>\n",
    "\n",
    "<div align=\"center\"><img src=\"images/mindlab-logo-simple.png\" style=\"width: 160px; display: inline; padding:25px;\"> <img src=\"images/unal-logo.png\" style=\"width: 150px; display: inline; padding: 0 0 20px 0;\"></div>"
   ]
  },
  {
   "cell_type": "markdown",
   "metadata": {
    "slideshow": {
     "slide_type": "slide"
    }
   },
   "source": [
    "# Outline\n",
    "\n",
    "* What’s Theano?\n",
    "* Using Theano\n",
    "* Basic Usage\n",
    "* ** Advanced Usage ** \n",
    "* ** Case study 1: Logistic Regression ** \n",
    "* ** Case study 2: Multi-layer Perceptron ** "
   ]
  },
  {
   "cell_type": "markdown",
   "metadata": {
    "slideshow": {
     "slide_type": "slide"
    }
   },
   "source": [
    "# Using the CPU vs GPU\n",
    "Theano can transparently compile onto different hardware. What device it uses by default depends on your **.theanorc** file and any environment variables defined, as described in detail here: http://deeplearning.net/software/theano/library/config.html \n",
    "\n",
    "For convenience, Theano provides the floatX configuration variable which designates what float accuracy to use. For example, you can run a Python script with certain environment variables set to use the CPU:\n",
    "\n",
    "\n",
    "    THEANO_FLAGS=device=cpu,floatX=float64 python your_script.py\n",
    "\n",
    "or GPU:\n",
    "\n",
    "    THEANO_FLAGS=device=gpu,floatX=float32 python your_script.py\n",
    "    \n",
    "**.theanorc**:\n",
    "\n",
    "    [global]\n",
    "    floatX = float32\n",
    "    device = gpu0\n",
    "    mode=FAST_RUN\n",
    "    exception_verbosity=high"
   ]
  },
  {
   "cell_type": "markdown",
   "metadata": {
    "slideshow": {
     "slide_type": "subslide"
    }
   },
   "source": [
    "You can get the values being used to configure Theano like so:"
   ]
  },
  {
   "cell_type": "code",
   "execution_count": 1,
   "metadata": {
    "collapsed": false,
    "slideshow": {
     "slide_type": "-"
    }
   },
   "outputs": [
    {
     "name": "stdout",
     "output_type": "stream",
     "text": [
      "cpu\n",
      "float64\n"
     ]
    }
   ],
   "source": [
    "import theano\n",
    "print(theano.config.device)\n",
    "print(theano.config.floatX)"
   ]
  },
  {
   "cell_type": "markdown",
   "metadata": {
    "slideshow": {
     "slide_type": "fragment"
    }
   },
   "source": [
    "You can also get/set them at runtime:"
   ]
  },
  {
   "cell_type": "code",
   "execution_count": 2,
   "metadata": {
    "collapsed": false,
    "slideshow": {
     "slide_type": "-"
    }
   },
   "outputs": [],
   "source": [
    "old_floatX = theano.config.floatX\n",
    "theano.config.floatX = 'float32'"
   ]
  },
  {
   "cell_type": "markdown",
   "metadata": {
    "slideshow": {
     "slide_type": "fragment"
    }
   },
   "source": [
    "Be careful that you're actually using floatX!"
   ]
  },
  {
   "cell_type": "code",
   "execution_count": 3,
   "metadata": {
    "collapsed": false,
    "slideshow": {
     "slide_type": "fragment"
    }
   },
   "outputs": [
    {
     "name": "stdout",
     "output_type": "stream",
     "text": [
      "<TensorType(float64, vector)>\n"
     ]
    }
   ],
   "source": [
    "import numpy as np\n",
    "# For example, the following will cause var to be a float64 regardless of floatX due to numpy defaults:\n",
    "var = theano.shared(np.array([1.3, 2.4]))\n",
    "print(var.type()) #!!! "
   ]
  },
  {
   "cell_type": "code",
   "execution_count": 4,
   "metadata": {
    "collapsed": false,
    "slideshow": {
     "slide_type": "fragment"
    }
   },
   "outputs": [
    {
     "name": "stdout",
     "output_type": "stream",
     "text": [
      "<TensorType(float32, vector)>\n"
     ]
    }
   ],
   "source": [
    "# So, whenever you use a numpy array, make sure to set its dtype to theano.config.floatX\n",
    "var = theano.shared(np.array([1.3, 2.4], dtype=theano.config.floatX))\n",
    "print(var.type())\n",
    "# Revert to old value\n",
    "theano.config.floatX = old_floatX"
   ]
  },
  {
   "cell_type": "markdown",
   "metadata": {
    "slideshow": {
     "slide_type": "subslide"
    }
   },
   "source": [
    "# Testing Theano with GPU\n",
    "\n",
    "    check_theano.py:\n"
   ]
  },
  {
   "cell_type": "code",
   "execution_count": 5,
   "metadata": {
    "collapsed": false
   },
   "outputs": [
    {
     "name": "stdout",
     "output_type": "stream",
     "text": [
      "[Elemwise{exp,no_inplace}(<TensorType(float64, vector)>)]\n",
      "Looping 1000 times took 4.087998 seconds\n",
      "Result is [ 1.23178032  1.61879341  1.52278065 ...,  2.20771815  2.29967753\n",
      "  1.62323285]\n",
      "Used the cpu\n"
     ]
    }
   ],
   "source": [
    "from theano import function, config, shared, sandbox\n",
    "import theano.tensor as T\n",
    "import numpy\n",
    "import time\n",
    "\n",
    "vlen = 10 * 30 * 768  # 10 x #cores x # threads per core\n",
    "iters = 1000\n",
    "\n",
    "rng = numpy.random.RandomState(22)\n",
    "x = shared(numpy.asarray(rng.rand(vlen), config.floatX))\n",
    "f = function([], T.exp(x))\n",
    "print(f.maker.fgraph.toposort())\n",
    "t0 = time.time()\n",
    "for i in xrange(iters):\n",
    "    r = f()\n",
    "t1 = time.time()\n",
    "print(\"Looping %d times took %f seconds\" % (iters, t1 - t0))\n",
    "print(\"Result is %s\" % (r,))\n",
    "if numpy.any([isinstance(x.op, T.Elemwise) for x in f.maker.fgraph.toposort()]):\n",
    "    print('Used the cpu')\n",
    "else:\n",
    "    print('Used the gpu')"
   ]
  },
  {
   "cell_type": "markdown",
   "metadata": {
    "slideshow": {
     "slide_type": "subslide"
    }
   },
   "source": [
    "device=cpu\n",
    "<pre><code>\n",
    "$ THEANO_FLAGS=mode=FAST_RUN,device=cpu,floatX=float32 python check_theano.py      \n",
    "[Elemwise{exp,no_inplace}(<TensorType(float32, vector)>)]                                                              \n",
    "Looping 1000 times took 2.204147 seconds                                                                                \n",
    "Result is [ 1.23178029  1.61879337  1.52278066 ...,  2.20771813  2.29967761                                           \n",
    " 1.62323284]                                                                                                            \n",
    "Used the cpu\n",
    "</code></pre>\n",
    "\n",
    "device=gpu\n",
    "<pre><code>\n",
    "$ THEANO_FLAGS=mode=FAST_RUN,device=gpu,floatX=float32 python check_theano.py      \n",
    "Using gpu device 0: Graphics Device (CNMeM is disabled)                                                               [GpuElemwise{exp,no_inplace}(<CudaNdarrayType(float32, vector)>), HostFromGpu(GpuElemwise{exp,no_inplace}.0)]\n",
    "Looping 1000 times took 0.311079 seconds                                                                               \n",
    "Result is [ 1.23178029  1.61879349  1.52278066 ...,  2.20771813  2.29967761                                           \n",
    "  1.62323296]                                                                                                         \n",
    "Used the gpu\n",
    "</code></pre>"
   ]
  },
  {
   "cell_type": "markdown",
   "metadata": {
    "slideshow": {
     "slide_type": "slide"
    }
   },
   "source": [
    "# Case study 1: Logistic Regression\n"
   ]
  },
  {
   "cell_type": "markdown",
   "metadata": {
    "slideshow": {
     "slide_type": "fragment"
    }
   },
   "source": [
    "<table style=\"border:none;\">\n",
    "<tr style=\"border:none;\">\n",
    "<td style=\"border:none;\"> \n",
    "    \n",
    "<ul style=\"width: 400px;\">\n",
    "<li>Binary classification</li>\n",
    "<br>\n",
    "<li>Discriminative function</li>\n",
    "<br>\n",
    "$$ 𝑝(𝑦 = 1|𝑥) =\\frac{1}{1+exp(−𝑤∙𝑥−𝑏)}$$\n",
    "<br>\n",
    "<li>Objective function</li>\n",
    "<br>\n",
    "Cross-entropy\n",
    "<br>\n",
    "$$ 𝐽 = −𝑦∙log(𝑝) − (1 − 𝑦)∙log(1 − 𝑝) $$\n",
    "<br>\n",
    "</ul>\n",
    "\n",
    "</td>\n",
    "<td style=\"border:none; width: 250px;\">\n",
    "    \n",
    "<img src=\"images/classification-problem.png\" style=\"width: 150px;\"> \n",
    "<img src=\"images/sigmoid.png\" style=\"width: 150px;\"> \n",
    "<img src=\"images/sigmoid-function.png\" style=\"width: 150px;\">\n",
    "\n",
    "</td> \n",
    "</tr>\n",
    "</table>"
   ]
  },
  {
   "cell_type": "markdown",
   "metadata": {
    "slideshow": {
     "slide_type": "subslide"
    }
   },
   "source": [
    "# Case study 1: Logistic Regression"
   ]
  },
  {
   "cell_type": "code",
   "execution_count": 6,
   "metadata": {
    "collapsed": false,
    "slideshow": {
     "slide_type": "fragment"
    }
   },
   "outputs": [],
   "source": [
    "import numpy\n",
    "import theano\n",
    "import theano.tensor as T\n",
    "from collections import OrderedDict \n",
    "\n",
    "rng = numpy.random\n",
    "\n",
    "N = 400 # number of samples\n",
    "feats = 784 # dimensionality of features\n",
    "D = (rng.randn(N, feats), rng.randint(size=N, low=0, high=2))\n",
    "training_steps = 1000"
   ]
  },
  {
   "cell_type": "code",
   "execution_count": 7,
   "metadata": {
    "collapsed": false,
    "slideshow": {
     "slide_type": "fragment"
    }
   },
   "outputs": [],
   "source": [
    "# declare Theano symbolic variables\n",
    "x = T.matrix('x')\n",
    "y = T.vector('y')\n",
    "w = theano.shared(rng.randn(784), name='w')\n",
    "b = theano.shared(0., name='b')"
   ]
  },
  {
   "cell_type": "code",
   "execution_count": 8,
   "metadata": {
    "collapsed": false,
    "slideshow": {
     "slide_type": "skip"
    }
   },
   "outputs": [
    {
     "name": "stdout",
     "output_type": "stream",
     "text": [
      "Initial model:\n",
      "[ -1.58300662e-01  -7.86673912e-01   5.45826327e-01  -3.37237108e-02\n",
      "   2.19104334e+00   1.95970494e+00   1.87966449e+00  -7.86341466e-01\n",
      "  -7.96395907e-01  -2.19368160e-01  -1.16401413e+00  -9.13044626e-01\n",
      "   5.40199742e-01  -8.01253474e-02  -1.47752234e+00   6.29985900e-01\n",
      "   2.41972598e-01  -1.31578868e+00   1.75285145e+00   4.25742130e-01\n",
      "  -3.03169942e-01   1.00367204e+00  -1.46657382e+00   3.10413131e-01\n",
      "  -9.79324566e-01   1.09644697e+00  -5.06601623e-01   1.89847590e+00\n",
      "   7.20443847e-02  -1.01315217e-01  -3.57833383e-01  -3.21251945e-01\n",
      "   5.93337270e-01  -1.17358387e-01  -4.72176233e-01   1.30402152e+00\n",
      "  -9.59207081e-01  -1.06604713e+00  -1.04597555e+00  -4.96854601e-01\n",
      "   1.69961939e+00  -4.61857519e-01   7.73272581e-01   2.86219966e-01\n",
      "  -1.82938652e+00   8.11405173e-01   5.37152187e-02   2.07547891e-01\n",
      "   1.62284578e+00  -1.84057038e+00   3.24260806e-01   3.30403643e-01\n",
      "   9.43287907e-01   1.19837087e+00  -9.95815695e-01   6.67630838e-01\n",
      "  -1.09072037e+00  -2.63214051e-01  -9.98718187e-01  -1.16687358e-01\n",
      "  -1.63928408e+00   8.14864897e-01   5.89528031e-01  -2.34961660e-01\n",
      "   5.70347123e-01  -8.32311789e-01   9.63053833e-02   8.10773698e-01\n",
      "   1.19502109e-01   1.41552658e+00   6.78964646e-01   1.37989647e-01\n",
      "   1.04045833e+00   7.62515966e-01   6.19758498e-01  -4.67420542e-01\n",
      "   9.21027278e-01  -5.71013445e-01   2.99878329e-01  -4.42470342e-01\n",
      "   9.60047088e-01   2.30211551e-01  -1.09431526e+00  -5.76696506e-01\n",
      "   1.36019334e+00   3.04440835e-01   1.73248807e-01  -3.42598210e-01\n",
      "  -1.11716459e+00  -6.84493524e-02  -1.37365654e+00  -5.11871223e-01\n",
      "  -1.91765409e-01   1.20323002e+00   1.01376596e+00   2.89721119e+00\n",
      "   4.02581520e-01  -3.98617772e-01  -9.60510234e-01  -9.80738122e-02\n",
      "  -1.95278226e-01   5.69244195e-01   6.29426732e-01   9.48195284e-01\n",
      "  -5.90496293e-01  -1.30093476e+00   8.57008148e-01  -1.79983385e+00\n",
      "   1.29874736e+00   1.38714966e+00   2.43584201e+00  -1.73153850e-01\n",
      "   2.30173828e-01   1.14148142e+00   1.61716628e+00  -9.94328369e-01\n",
      "   6.79904239e-01   5.01357681e-01   2.56234431e-01   1.70145513e+00\n",
      "  -2.14664677e-01  -6.36091136e-01   6.53746225e-01   1.44153633e+00\n",
      "  -3.27065817e-01  -1.49918732e+00  -3.79328696e-01  -1.88300537e+00\n",
      "  -3.56289067e-01  -1.62101180e+00  -1.25367175e+00  -1.17881773e-01\n",
      "  -1.94064450e+00   8.72240875e-02   1.06082075e+00  -2.69932742e-01\n",
      "   2.39584642e-01  -8.11207016e-02  -1.03762673e-01   1.15742904e+00\n",
      "  -1.31929348e+00  -1.12653355e+00   7.32259875e-01   1.75866050e-01\n",
      "  -8.40698754e-03  -1.74713320e+00   6.83347929e-01  -6.73331222e-01\n",
      "  -1.24953503e+00  -6.51346221e-01   2.09929118e+00  -1.02586856e+00\n",
      "   8.56760654e-01  -5.61240543e-01   8.39243862e-03   1.18415751e+00\n",
      "  -1.36453386e+00  -1.44073635e+00  -1.10557627e-01   2.14971387e+00\n",
      "   4.73656051e-01  -9.28420670e-02  -1.38743850e+00  -6.24852421e-02\n",
      "   7.83656781e-02   5.28883511e-01   2.20476437e+00  -2.83936445e-01\n",
      "  -1.69506501e-01  -1.34645465e+00   4.37536430e-01   1.30073445e+00\n",
      "   7.35770724e-01  -4.62730577e-01  -5.83562439e-01  -1.72271404e+00\n",
      "  -5.05770659e-01   1.49829028e+00  -1.13026711e+00   3.63774241e-02\n",
      "  -7.31333816e-01   2.25788034e-01   2.56110545e-01   6.50780808e-01\n",
      "  -1.30121228e-01  -8.13855579e-01  -2.91670082e-01   3.43369148e-02\n",
      "  -1.48773916e+00  -3.76365048e-01  -3.51888961e-01   5.71898002e-01\n",
      "   5.88047302e-01   3.25557044e-01  -7.99996004e-01  -1.58412224e+00\n",
      "  -1.38090036e+00  -1.14731369e+00   8.10209957e-01   1.38450300e+00\n",
      "  -1.30203808e+00   1.91144509e+00   2.05682443e-01  -4.05824509e-01\n",
      "  -1.99151897e-01  -1.04120305e+00  -1.20497020e+00  -3.03724346e-01\n",
      "  -4.76314572e-01  -5.82390524e-01  -2.24672671e-01   1.15566065e+00\n",
      "  -1.21193793e+00   1.61817370e+00   2.16306021e+00  -4.43565841e-01\n",
      "  -8.38751977e-01  -3.30663673e-01  -3.79971288e-01   7.22442902e-01\n",
      "   8.79776964e-01   1.60869827e-01  -7.58156875e-01  -6.39894948e-01\n",
      "  -6.44368412e-02  -4.07688126e-01   5.75700265e-01  -9.76488563e-01\n",
      "  -1.39222273e+00   9.55969745e-01  -1.20359518e+00  -2.68905444e-01\n",
      "   4.26091529e-01   9.55867068e-01  -1.25101514e+00  -1.01796589e+00\n",
      "  -4.42453393e-01  -1.42693129e-01   3.57382196e-01   1.82100506e-02\n",
      "   1.77394684e+00   5.49167675e-01   8.21946442e-01   4.47804934e-01\n",
      "   1.33284058e+00  -4.27292201e-01   5.82121003e-01  -2.08417047e-01\n",
      "   8.91869094e-01   3.61026870e-01  -1.59945064e+00   7.12702434e-01\n",
      "   1.34234377e+00  -3.34345548e-01   1.28912056e+00  -4.18582522e-01\n",
      "  -5.34508083e-01  -3.67612068e-01   3.72389789e-01  -1.52197327e+00\n",
      "  -1.88029376e+00  -8.05691430e-01   1.76171308e-01   4.87438949e-01\n",
      "   1.88159422e+00   7.54449863e-01  -2.80745078e-01  -1.01295943e-01\n",
      "   2.39704537e+00   5.82822653e-01  -5.56821306e-01  -1.18013679e+00\n",
      "  -7.32831662e-02   7.50432501e-01  -8.31983114e-01   1.00306518e+00\n",
      "  -1.52446693e+00  -1.49081084e+00  -7.83432483e-01   2.62875382e-01\n",
      "   1.35289303e-01   6.69658917e-01   1.00867741e+00   7.08371441e-01\n",
      "   1.16637754e+00  -7.37418313e-01   1.68950260e+00  -8.93670269e-01\n",
      "   1.35471334e+00  -1.51965277e+00   3.46626162e-01   3.08949758e-01\n",
      "   9.36995731e-01  -1.39441286e+00  -2.12453425e-01  -1.30816677e+00\n",
      "   2.50030597e-01  -9.53996596e-01  -1.19863012e-01  -1.19891500e-01\n",
      "  -9.86617944e-01  -1.52125115e-02  -8.66232327e-01   7.28350947e-01\n",
      "  -9.84781120e-01   7.00607980e-01   1.04070154e-03   1.91766315e-01\n",
      "   5.45427902e-01  -1.34701765e+00   3.83840972e-01  -1.44709463e+00\n",
      "   3.14174140e-01   1.83418786e+00  -6.32137107e-01   8.56120364e-01\n",
      "   3.77124766e-01   4.12378286e-01   3.47795816e-02  -4.21664736e-01\n",
      "   3.63146228e-01   3.31736887e-01   2.30022043e-01  -1.29576027e-01\n",
      "   1.56923249e+00  -3.16800768e-01  -8.18984466e-01  -8.36013750e-01\n",
      "   5.34985299e-01  -8.99909038e-01   1.14920968e+00  -2.84491966e-01\n",
      "  -7.03439471e-01  -1.02276174e-01   1.81330994e-01  -7.48109841e-01\n",
      "   1.76907456e-01   4.39658881e-01   7.93676498e-01  -5.14707841e-01\n",
      "   3.34072714e-01   1.80174046e+00   1.01378791e+00  -1.20130773e+00\n",
      "   1.06789351e+00  -1.14228507e+00   1.71004342e+00  -6.39353945e-01\n",
      "   5.52392992e-01   2.33678422e-01   7.02937463e-01   1.41042548e+00\n",
      "   6.60130283e-01  -1.48429572e+00   2.02282044e+00   1.09545040e+00\n",
      "  -5.42164926e-01  -2.14415598e+00  -6.23565623e-01   9.50553714e-01\n",
      "  -5.42385565e-01  -7.57077902e-01   6.29631126e-01  -1.45984952e-01\n",
      "   6.12181808e-02  -1.96606920e+00  -8.45944415e-01  -1.23042647e+00\n",
      "   5.72164149e-01  -4.97122219e-01   5.21469129e-01  -6.23470398e-01\n",
      "   4.15983829e-01  -1.79928109e+00   6.83146520e-01   1.64136774e+00\n",
      "   1.06114732e-01  -1.05214806e+00  -5.10865018e-01  -4.96230212e-01\n",
      "   3.22438565e-01   1.57521211e-02  -8.66295438e-01   3.71516260e-02\n",
      "   1.87642946e+00  -2.83393125e-01  -7.86137991e-01   9.64767171e-01\n",
      "   5.07560767e-01  -3.23490365e-02   6.00632404e-01  -2.06965390e+00\n",
      "  -6.18790283e-01  -6.60397056e-01   4.47787805e-01  -1.44248821e+00\n",
      "  -1.86132219e+00   1.22565821e+00  -3.14020629e+00  -1.16631754e+00\n",
      "  -6.28887091e-01   9.94860965e-01  -3.49109653e-01   1.44723482e+00\n",
      "   3.01638446e-01   1.26224659e+00   6.96773010e-02   3.17047672e-01\n",
      "   1.16934573e+00   2.07528964e-01   3.02407747e-01   5.55672879e-01\n",
      "  -3.12211409e-01  -6.14508584e-01   6.79592704e-01   1.61374269e-01\n",
      "  -2.03945152e-01  -2.41294825e+00   2.00242693e+00  -2.01681836e+00\n",
      "  -5.99419215e-01  -1.81663364e-01   7.67749542e-01  -1.04353570e+00\n",
      "   1.44752234e+00   4.74633134e-01   3.88046484e-01   1.10918087e+00\n",
      "  -9.63310550e-01   1.78519708e+00   4.51583110e-01   4.51367808e-02\n",
      "   9.33712014e-03   7.49336431e-01  -1.22059894e-01   1.01767289e-01\n",
      "   1.99090219e+00   1.43202265e+00  -1.69764118e+00  -7.07197283e-01\n",
      "  -4.71222658e-01   4.51056352e-01  -1.99721288e-01   2.02573834e-01\n",
      "  -1.20678769e+00  -1.73756426e-01   2.79623948e-01  -7.27358229e-01\n",
      "   8.05221776e-01   9.71799537e-01   3.86494201e-01  -1.77892405e-01\n",
      "   1.06331436e+00  -1.19831961e+00   2.07479052e+00   6.55116889e-01\n",
      "  -1.24430568e+00  -1.00852413e+00   1.04853723e+00  -1.19040402e+00\n",
      "   1.09004316e-01  -1.43150184e-03   7.11433027e-01  -1.70973998e+00\n",
      "  -2.52635012e-01   1.82457870e+00  -1.30146700e+00   3.75506344e-01\n",
      "   3.12937418e-01   1.80377604e+00   1.98773763e+00   9.36124716e-01\n",
      "   2.50793892e-01   1.50169778e-01  -6.21062146e-01  -1.22255975e+00\n",
      "   1.42139170e-01   1.15603665e-01   9.34418447e-01  -3.07901611e-01\n",
      "  -1.45798854e+00   1.73865430e+00   8.53103770e-01  -2.78829521e+00\n",
      "   5.56444650e-01   4.60997901e-01  -3.34939975e-01  -4.19983005e-02\n",
      "  -3.94051801e-01  -2.46988730e-02   1.10028080e+00   6.17267541e-01\n",
      "  -6.51601560e-01  -3.40013953e-01  -1.42509468e+00  -1.05736121e-02\n",
      "   4.48340399e-01  -6.26964697e-02  -6.42079321e-01  -1.22643882e+00\n",
      "  -2.07166125e-01  -7.43743509e-02  -8.93574879e-01   2.27188621e-01\n",
      "  -6.98565965e-01  -2.59645776e+00  -5.28471608e-01  -1.35084467e+00\n",
      "  -1.47526707e-01   2.39475039e+00  -7.73425045e-01  -1.54435457e+00\n",
      "  -7.81352641e-01   6.27363630e-01   2.21245840e-01  -3.26250065e-02\n",
      "   3.25392343e-01   6.13882354e-01  -6.09468437e-02   3.41249201e-01\n",
      "  -7.18114748e-01   3.49396963e-01  -1.22005073e+00  -7.69581177e-01\n",
      "   1.98853796e-01   5.23553245e-01  -1.19945288e+00  -1.84979489e-01\n",
      "   1.49354583e-01   7.37889973e-01  -6.99675019e-02  -3.13757053e-01\n",
      "  -9.47636930e-01   2.48958423e-01   3.74355321e-02  -1.18082472e-01\n",
      "  -4.90609725e-01   6.92306946e-02   2.65365323e-02   4.60852826e-01\n",
      "   2.35440101e+00  -4.22783551e-01   2.04329246e-01   1.48726069e+00\n",
      "  -1.49329020e-01  -1.94501016e+00  -3.16687958e-01  -1.37387042e+00\n",
      "  -6.34647439e-01  -6.84825758e-01  -9.94545917e-02  -1.73780773e+00\n",
      "   1.48389460e+00   2.51461505e+00  -1.60843585e-01   1.84557742e+00\n",
      "   6.08883362e-01  -6.97234382e-01  -1.68779599e+00  -3.06305964e-01\n",
      "   8.53967795e-01   1.94291495e-01  -1.87838949e+00   7.43419465e-02\n",
      "  -4.43834241e-01  -1.05838336e+00  -1.25459495e+00  -1.65538237e-01\n",
      "  -9.79350863e-02  -1.47951218e+00  -1.67141436e+00  -5.72728547e-01\n",
      "   1.16904361e+00   4.31466920e-01   1.11027997e+00   2.77202987e-01\n",
      "   9.61527348e-01   1.66292688e-01   2.83788084e-01   1.08985591e+00\n",
      "   1.90750263e+00  -7.96784005e-03  -6.78344491e-01   9.46457726e-01\n",
      "   5.51587425e-01  -7.49591638e-01  -2.12982151e+00   1.32440285e+00\n",
      "  -1.54117351e-01  -8.32852431e-01  -1.10337456e+00  -6.33721674e-01\n",
      "   1.85383375e-01   4.24029344e-01  -5.37728878e-01   1.24992440e+00\n",
      "  -2.09348482e-01  -1.27870955e+00   6.58171773e-01  -2.77850453e-01\n",
      "  -6.44675312e-01  -1.19500189e-01   1.71398342e-01   5.41250502e-01\n",
      "  -4.73289535e-01  -3.37514593e-01   2.57033838e+00   1.34632810e+00\n",
      "   1.74214948e-01   1.37495402e+00  -4.00280868e-01   6.33779297e-02\n",
      "   4.20711447e-03   1.01495583e+00   2.26419883e-01  -6.00070458e-01\n",
      "   5.08401206e-01   7.48640087e-01  -1.30710300e+00   8.10293322e-01\n",
      "  -2.81358717e-01  -1.21446357e+00   1.84757884e+00   1.58141172e-01\n",
      "  -6.29241342e-01   7.40593603e-01   2.49800511e+00  -1.41408754e+00\n",
      "   7.40609722e-01   3.21045583e-01   8.23760305e-01  -3.86655700e-01\n",
      "   6.87877796e-01  -9.53598690e-01  -1.25277969e-01   2.39086673e-01\n",
      "  -2.95517744e-01   9.89389329e-02   1.25084699e+00   1.28539804e-01\n",
      "   8.68645894e-01   6.34820285e-01   5.24086114e-01  -2.93935274e-01\n",
      "  -1.94067751e+00  -4.79323114e-01  -3.93892391e-02   5.74316332e-01\n",
      "   1.63408168e-01   8.48884427e-01  -2.23717908e-01   9.46384124e-01\n",
      "   4.17522952e-01   1.31931439e+00  -7.42377381e-01   1.71031201e-01\n",
      "  -9.14658415e-02  -2.53783344e-01  -8.91122024e-01   6.40987151e-01\n",
      "  -8.31881922e-01  -1.20266312e+00   7.07027897e-02  -9.41531845e-02\n",
      "  -3.63344709e-01   7.02696987e-01  -2.62061031e-01  -1.20234869e+00\n",
      "  -3.08781835e+00   4.16584173e-01   6.40096295e-01   3.69796655e-02\n",
      "   8.25204793e-01  -1.25628804e+00   4.02663676e-01   8.27986009e-01\n",
      "  -4.10148297e-01  -4.13788834e-01  -2.45473852e-01   6.49193007e-01\n",
      "  -4.20787621e-01   1.93740233e+00  -1.01632828e+00   2.13976861e+00\n",
      "  -1.24268605e+00  -1.91471685e+00   5.47732508e-01   1.01390243e+00\n",
      "  -2.02083731e+00   1.78266236e+00   2.03735518e+00   4.61081210e-01\n",
      "   6.11220025e-01  -8.49623987e-01   1.19852016e+00  -1.51866919e+00\n",
      "  -9.70829837e-01   9.51106148e-02   1.23019167e+00  -2.40817290e-01\n",
      "  -9.22478347e-01   7.46979234e-01  -2.61882548e-02  -1.36181430e+00\n",
      "  -2.95290043e-01   1.66439893e+00   1.26574092e+00  -9.93792425e-01\n",
      "  -8.33384674e-01   5.55207542e-01  -5.74272024e-01  -7.49985003e-01\n",
      "   1.36534155e+00   9.92382809e-01   1.42715167e+00   4.55357425e-01\n",
      "  -6.18045856e-01  -5.29230974e-01   1.67293041e+00  -1.98823489e+00\n",
      "  -2.43752509e+00   4.81156283e-01   4.45000244e-02   5.29429600e-01\n",
      "  -5.95567928e-01  -3.56195719e-01   8.42386231e-01   8.28541371e-01\n",
      "   1.28341066e+00   6.85753580e-01   6.07764211e-01   1.71195626e+00\n",
      "  -1.39865219e+00   9.34806504e-01  -1.72843202e+00  -6.75188479e-02\n",
      "   4.07738665e-01   2.29470768e-01  -1.29251481e+00  -9.52368478e-01\n",
      "  -1.04214505e+00  -3.23255039e-01   1.44458985e+00   1.95053121e+00\n",
      "  -7.48323186e-01   9.80345923e-01   4.36420377e-01   7.11107707e-01\n",
      "   2.50578401e-01   6.49211000e-01   1.57192415e+00  -1.95130192e+00\n",
      "   1.46201686e+00  -2.66144415e-01   1.12112129e+00   3.85932567e-01\n",
      "  -1.17092124e+00  -1.80386334e+00   8.68419886e-01  -2.54519070e-01\n",
      "  -1.92921109e+00  -2.11684330e+00  -3.63281835e-01  -7.37412047e-01\n",
      "   1.54617437e-01   5.17440406e-02   1.31669557e+00  -1.01133985e+00\n",
      "  -9.74587211e-02   1.36367463e-01   5.70501623e-01  -2.19322841e-01\n",
      "   1.63367753e+00   1.30119716e+00   1.44258327e+00   9.32475376e-01\n",
      "  -1.56237789e+00   1.30522406e-01   2.12262462e-01   7.97604818e-01\n",
      "  -1.37000510e-01  -2.22970334e-01   3.32410351e-01   5.42194134e-01] 0.0\n"
     ]
    }
   ],
   "source": [
    "print \"Initial model:\"\n",
    "print w.get_value(), b.get_value()"
   ]
  },
  {
   "cell_type": "code",
   "execution_count": 9,
   "metadata": {
    "collapsed": false,
    "slideshow": {
     "slide_type": "subslide"
    }
   },
   "outputs": [],
   "source": [
    "# Construct Theano expression graph"
   ]
  },
  {
   "cell_type": "markdown",
   "metadata": {
    "slideshow": {
     "slide_type": "fragment"
    }
   },
   "source": [
    "$$ 𝑝(𝑦 = 1|𝑥) =\\frac{1}{1+exp(−𝑤∙𝑥−𝑏)} $$"
   ]
  },
  {
   "cell_type": "code",
   "execution_count": 10,
   "metadata": {
    "collapsed": true,
    "slideshow": {
     "slide_type": "fragment"
    }
   },
   "outputs": [],
   "source": [
    "p_1 = 1 / (1 + T.exp(-T.dot(x, w) - b)) # probability that target = 1\n",
    "prediction = p_1 > 0.5 # the prediction threshold"
   ]
  },
  {
   "cell_type": "markdown",
   "metadata": {
    "slideshow": {
     "slide_type": "fragment"
    }
   },
   "source": [
    "$$ cost = avg(J(p_1)) + \\lambda∙\\left \\| W \\right \\|_2^2$$"
   ]
  },
  {
   "cell_type": "code",
   "execution_count": 11,
   "metadata": {
    "collapsed": true,
    "slideshow": {
     "slide_type": "fragment"
    }
   },
   "outputs": [],
   "source": [
    "xent = -y*T.log(p_1) - (1 - y)*T.log(1 - p_1) # cross-entropy loss function\n",
    "cost = xent.mean() + 0.01 * (w**2).sum() # the cost to minimize\n",
    "\n",
    "gw, gb = T.grad(cost, [w, b])"
   ]
  },
  {
   "cell_type": "markdown",
   "metadata": {
    "slideshow": {
     "slide_type": "subslide"
    }
   },
   "source": [
    "Gradient descent:  $ \\theta \\leftarrow \\theta - \\gamma \\cdot \\frac{\\partial }{\\partial \\theta}L $"
   ]
  },
  {
   "cell_type": "code",
   "execution_count": 12,
   "metadata": {
    "collapsed": false,
    "slideshow": {
     "slide_type": "fragment"
    }
   },
   "outputs": [],
   "source": [
    "# Compile\n",
    "train = theano.function(\n",
    "    inputs = [x, y],\n",
    "    outputs = [prediction, xent, cost],\n",
    "    updates = \n",
    "        OrderedDict([(w, w - 0.1*gw), \n",
    "                     (b, b - 0.1*gb)]),\n",
    "    allow_input_downcast=True)\n",
    "predict = theano.function(\n",
    "    inputs = [x], \n",
    "    outputs = prediction,\n",
    "    allow_input_downcast=True)"
   ]
  },
  {
   "cell_type": "code",
   "execution_count": 13,
   "metadata": {
    "collapsed": true,
    "slideshow": {
     "slide_type": "skip"
    }
   },
   "outputs": [],
   "source": [
    "# Train\n",
    "predictions = []\n",
    "errors = []\n",
    "costs = []\n",
    "fmeasures = []"
   ]
  },
  {
   "cell_type": "code",
   "execution_count": 14,
   "metadata": {
    "collapsed": false,
    "slideshow": {
     "slide_type": "fragment"
    }
   },
   "outputs": [],
   "source": [
    "# Train\n",
    "for i in range(training_steps):\n",
    "    pred, err, cost = train(D[0], D[1])\n",
    "    \n",
    "    predictions.append(pred)\n",
    "    errors.append(err)\n",
    "    costs.append(cost)"
   ]
  },
  {
   "cell_type": "code",
   "execution_count": 15,
   "metadata": {
    "collapsed": false,
    "slideshow": {
     "slide_type": "skip"
    }
   },
   "outputs": [],
   "source": [
    "# show errors\n",
    "import matplotlib.pyplot as plt\n",
    "from sklearn.metrics import f1_score\n",
    "%matplotlib inline\n",
    "\n",
    "iterations = range(training_steps)\n",
    "\n",
    "for i in iterations:\n",
    "    fmeasures.append(f1_score(D[1], predictions[i]))"
   ]
  },
  {
   "cell_type": "code",
   "execution_count": 16,
   "metadata": {
    "collapsed": false,
    "slideshow": {
     "slide_type": "subslide"
    }
   },
   "outputs": [
    {
     "data": {
      "image/png": "[encoded data removed]",
      "text/plain": [
       "<matplotlib.figure.Figure at 0x7f520560be90>"
      ]
     },
     "metadata": {},
     "output_type": "display_data"
    }
   ],
   "source": [
    "plt.figure(figsize=(18, 6))\n",
    "plt.plot(iterations, costs, 'b')\n",
    "plt.title('Learning process')\n",
    "plt.xlabel(\"Iteration\")\n",
    "plt.ylabel(\"Cost\")\n",
    "plt.show()"
   ]
  },
  {
   "cell_type": "code",
   "execution_count": 17,
   "metadata": {
    "collapsed": false,
    "slideshow": {
     "slide_type": "subslide"
    }
   },
   "outputs": [
    {
     "data": {
      "image/png": "[encoded data removed]",
      "text/plain": [
       "<matplotlib.figure.Figure at 0x7f52056eb050>"
      ]
     },
     "metadata": {},
     "output_type": "display_data"
    }
   ],
   "source": [
    "plt.figure(figsize=(18, 6))\n",
    "plt.plot(iterations, fmeasures, 'b')\n",
    "plt.title('Predictions')\n",
    "plt.xlabel(\"Iteration\")\n",
    "plt.ylabel(\"F-measure\")\n",
    "plt.show()"
   ]
  },
  {
   "cell_type": "code",
   "execution_count": 18,
   "metadata": {
    "collapsed": false,
    "slideshow": {
     "slide_type": "skip"
    }
   },
   "outputs": [],
   "source": [
    "# print \"Final model:\"\n",
    "# print w.get_value(), b.get_value()\n",
    "# print \"target values for D: \", D[1]\n",
    "# print \"predictions on D: \", predict(D[0])"
   ]
  },
  {
   "cell_type": "markdown",
   "metadata": {
    "slideshow": {
     "slide_type": "slide"
    }
   },
   "source": [
    "# Case study 2: Multi-Layer Perceptron\n"
   ]
  },
  {
   "cell_type": "markdown",
   "metadata": {
    "slideshow": {
     "slide_type": "fragment"
    }
   },
   "source": [
    "<table style=\"border:none;\">\n",
    "<tr style=\"border:none;\">\n",
    "<td style=\"border:none;\"> \n",
    "    \n",
    "<ul style=\"width: 450px;\">\n",
    "<li>Hidden layer(s)</li>\n",
    "<br>\n",
    "<li>Discriminative function</li>\n",
    "<br>\n",
    "$$ 𝑝(𝑦 = 1|𝑥) = f(w_2∙(g(w_1∙x + b_1) + b_2))$$\n",
    "<br>\n",
    "$f$ and $g$ can be $sigmoid/tanh$ functions\n",
    "<br>\n",
    "<br>\n",
    "<li>Objective function</li>\n",
    "<br>\n",
    "Cross-entropy\n",
    "<br>\n",
    "$$ 𝐽 = −𝑦∙log(𝑝) − (1 − 𝑦)∙log(1 − 𝑝) $$\n",
    "<br>\n",
    "</ul>\n",
    "\n",
    "</td>\n",
    "<td style=\"border:none; width: 250px;\">\n",
    "    \n",
    "<img src=\"images/multilayer.png\" style=\"width: 200px;\"> \n",
    "<img src=\"images/sigmoid-function.png\" style=\"width: 200px;\">\n",
    "\n",
    "</td> \n",
    "</tr>\n",
    "</table>"
   ]
  },
  {
   "cell_type": "markdown",
   "metadata": {
    "slideshow": {
     "slide_type": "subslide"
    }
   },
   "source": [
    "# Case study 2: Multi-Layer Perceptron"
   ]
  },
  {
   "cell_type": "code",
   "execution_count": 19,
   "metadata": {
    "collapsed": false,
    "slideshow": {
     "slide_type": "fragment"
    }
   },
   "outputs": [],
   "source": [
    "import numpy\n",
    "import theano\n",
    "import theano.tensor as T\n",
    "rng = numpy.random\n",
    "\n",
    "N = 400 # number of samples\n",
    "feats = 784 # dimensionality of features\n",
    "D = (rng.randn(N, feats), rng.randint(size=N, low=0, high=2))\n",
    "training_steps = 1000"
   ]
  },
  {
   "cell_type": "code",
   "execution_count": 20,
   "metadata": {
    "collapsed": false,
    "slideshow": {
     "slide_type": "fragment"
    }
   },
   "outputs": [],
   "source": [
    "# declare Theano symbolic variables\n",
    "x = T.matrix('x')\n",
    "y = T.vector('y')\n",
    "w_1 = theano.shared(rng.randn(784,300), name='w1')\n",
    "b_1 = theano.shared(numpy.zeros((300,)), name='b1')\n",
    "w_2 = theano.shared(rng.randn(300), name='w2')\n",
    "b_2 = theano.shared(0., name='b2')"
   ]
  },
  {
   "cell_type": "code",
   "execution_count": 21,
   "metadata": {
    "collapsed": false,
    "slideshow": {
     "slide_type": "skip"
    }
   },
   "outputs": [],
   "source": [
    "# print \"Initial model:\"\n",
    "# print w_1.get_value(), b_1.get_value()\n",
    "# print w_2.get_value(), b_2.get_value()"
   ]
  },
  {
   "cell_type": "code",
   "execution_count": 22,
   "metadata": {
    "collapsed": false,
    "slideshow": {
     "slide_type": "subslide"
    }
   },
   "outputs": [],
   "source": [
    "# Construct Theano expression graph\n",
    "p_1 = T.nnet.sigmoid(-T.dot(T.nnet.sigmoid(-T.dot(x, w_1) - b_1), w_2) - b_2)\n",
    "# probability that target = 1\n",
    "prediction = p_1 > 0.5 # the prediction threshold\n",
    "xent = -y*T.log(p_1) - (1 - y)*T.log(1 - p_1) # cross-entropy loss func\n",
    "cost = xent.mean() + 0.01 * (w**2).sum() # the cost to minimize\n",
    "gw_1, gb_1, gw_2, gb_2 = T.grad(cost, [w_1, b_1, w_2, b_2])"
   ]
  },
  {
   "cell_type": "code",
   "execution_count": 23,
   "metadata": {
    "collapsed": false,
    "slideshow": {
     "slide_type": "fragment"
    }
   },
   "outputs": [],
   "source": [
    "# Compile\n",
    "train = theano.function(\n",
    "    inputs = [x, y],\n",
    "    outputs = [prediction, xent, cost],\n",
    "    updates = \n",
    "        OrderedDict([(w_1, w_1 - 0.1*gw_1), \n",
    "                     (b_1, b_1 - 0.1*gb_1),\n",
    "                     (w_2, w_2 - 0.1*gw_2),\n",
    "                     (b_2, b_2 - 0.1*gb_2)\n",
    "                    ]),\n",
    "    allow_input_downcast=True)\n",
    "predict = theano.function(\n",
    "    inputs = [x], \n",
    "    outputs = prediction, \n",
    "    allow_input_downcast=True)"
   ]
  },
  {
   "cell_type": "code",
   "execution_count": 24,
   "metadata": {
    "collapsed": false,
    "slideshow": {
     "slide_type": "skip"
    }
   },
   "outputs": [],
   "source": [
    "# Train\n",
    "predictions = []\n",
    "errors = []\n",
    "costs = []\n",
    "fmeasures = []"
   ]
  },
  {
   "cell_type": "code",
   "execution_count": 25,
   "metadata": {
    "collapsed": false,
    "slideshow": {
     "slide_type": "fragment"
    }
   },
   "outputs": [],
   "source": [
    "# Train\n",
    "for i in range(training_steps):\n",
    "    pred, err, cost = train(D[0], D[1])\n",
    "    \n",
    "    predictions.append(pred)\n",
    "    errors.append(err)\n",
    "    costs.append(cost)"
   ]
  },
  {
   "cell_type": "code",
   "execution_count": 26,
   "metadata": {
    "collapsed": true,
    "slideshow": {
     "slide_type": "skip"
    }
   },
   "outputs": [],
   "source": [
    "# show errors\n",
    "import matplotlib.pyplot as plt\n",
    "from sklearn.metrics import f1_score\n",
    "%matplotlib inline\n",
    "\n",
    "iterations = range(training_steps)\n",
    "\n",
    "for i in iterations:\n",
    "    fmeasures.append(f1_score(D[1], predictions[i]))"
   ]
  },
  {
   "cell_type": "code",
   "execution_count": 27,
   "metadata": {
    "collapsed": false,
    "slideshow": {
     "slide_type": "subslide"
    }
   },
   "outputs": [
    {
     "data": {
      "image/png": "[encoded data removed]",
      "text/plain": [
       "<matplotlib.figure.Figure at 0x7f51f7902f10>"
      ]
     },
     "metadata": {},
     "output_type": "display_data"
    }
   ],
   "source": [
    "plt.figure(figsize=(18, 6))\n",
    "plt.plot(iterations, costs, 'b')\n",
    "plt.title('Learning process')\n",
    "plt.xlabel(\"Iteration\")\n",
    "plt.ylabel(\"Cost\")\n",
    "plt.show()"
   ]
  },
  {
   "cell_type": "code",
   "execution_count": 28,
   "metadata": {
    "collapsed": false,
    "slideshow": {
     "slide_type": "subslide"
    }
   },
   "outputs": [
    {
     "data": {
      "image/png": "[encoded data removed]",
      "text/plain": [
       "<matplotlib.figure.Figure at 0x7f51f7894bd0>"
      ]
     },
     "metadata": {},
     "output_type": "display_data"
    }
   ],
   "source": [
    "plt.figure(figsize=(18, 6))\n",
    "plt.plot(iterations, fmeasures, 'b')\n",
    "plt.title('Predictions')\n",
    "plt.xlabel(\"Iteration\")\n",
    "plt.ylabel(\"F-measure\")\n",
    "plt.show()"
   ]
  },
  {
   "cell_type": "code",
   "execution_count": 29,
   "metadata": {
    "collapsed": false,
    "slideshow": {
     "slide_type": "skip"
    }
   },
   "outputs": [],
   "source": [
    "# print \"Final model:\"\n",
    "# print w_1.get_value(), b_1.get_value()\n",
    "# print w_2.get_value(), b_2.get_value()\n",
    "# print \"target values for D: \", D[1]\n",
    "# print \"predictions on D: \", predict(D[0])"
   ]
  },
  {
   "cell_type": "code",
   "execution_count": null,
   "metadata": {
    "collapsed": true
   },
   "outputs": [],
   "source": []
  }
 ],
 "metadata": {
  "kernelspec": {
   "display_name": "Python 2",
   "language": "python",
   "name": "python2"
  },
  "language_info": {
   "codemirror_mode": {
    "name": "ipython",
    "version": 2
   },
   "file_extension": ".py",
   "mimetype": "text/x-python",
   "name": "python",
   "nbconvert_exporter": "python",
   "pygments_lexer": "ipython2",
   "version": "2.7.10"
  }
 },
 "nbformat": 4,
 "nbformat_minor": 0
}
