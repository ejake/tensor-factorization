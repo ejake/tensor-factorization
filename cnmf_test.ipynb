{
 "cells": [
  {
   "cell_type": "markdown",
   "metadata": {},
   "source": [
    "# Testing Convex-NMF"
   ]
  },
  {
   "cell_type": "code",
   "execution_count": 2,
   "metadata": {
    "collapsed": false
   },
   "outputs": [
    {
     "name": "stdout",
     "output_type": "stream",
     "text": [
      "\n",
      "/opt/anaconda/envs/mindlabenv/lib/python2.7/site-packages/pycuda-2015.1.2-py2.7-linux-x86_64.egg\n",
      "/opt/anaconda/envs/mindlabenv/lib/python2.7/site-packages/appdirs-1.4.0-py2.7.egg\n",
      "/opt/anaconda/envs/mindlabenv/lib/python2.7/site-packages/pytools-2015.1.2-py2.7.egg\n",
      "/opt/anaconda/envs/mindlabenv/lib/python2.7/site-packages/PyBrain-0.3.3-py2.7.egg\n",
      "/opt/anaconda/envs/mindlabenv/lib/python2.7/site-packages/thrift_py-0.9.0-py2.7.egg\n",
      "/opt/anaconda/envs/mindlabenv/lib/python2.7/site-packages/PyMF-0.3-py2.7.egg\n",
      "/opt/anaconda/envs/mindlabenv/lib/python2.7/site-packages/cvxopt-1.1.7-py2.7-linux-x86_64.egg\n",
      "/opt/anaconda/envs/mindlabenv/lib/python2.7/site-packages/argparse-1.3.0-py2.7.egg\n",
      "/opt/pylearn2\n",
      "/opt/opencv-3.0.0/build/lib/python2.7/site-packages\n",
      "/opt/caffe/python\n",
      "/opt/anaconda/envs/mindlabenv/lib/python27.zip\n",
      "/opt/anaconda/envs/mindlabenv/lib/python2.7\n",
      "/opt/anaconda/envs/mindlabenv/lib/python2.7/plat-linux2\n",
      "/opt/anaconda/envs/mindlabenv/lib/python2.7/lib-tk\n",
      "/opt/anaconda/envs/mindlabenv/lib/python2.7/lib-old\n",
      "/opt/anaconda/envs/mindlabenv/lib/python2.7/lib-dynload\n",
      "/opt/anaconda/envs/mindlabenv/lib/python2.7/site-packages/Sphinx-1.3.1-py2.7.egg\n",
      "/opt/anaconda/envs/mindlabenv/lib/python2.7/site-packages\n",
      "/opt/anaconda/envs/mindlabenv/lib/python2.7/site-packages/cryptography-0.9.1-py2.7-linux-x86_64.egg\n",
      "/opt/anaconda/envs/mindlabenv/lib/python2.7/site-packages/setuptools-18.4-py2.7.egg\n",
      "/opt/anaconda/envs/mindlabenv/lib/python2.7/site-packages/IPython/extensions\n"
     ]
    }
   ],
   "source": [
    "import sys\n",
    "print '\\n'.join(sys.path)"
   ]
  },
  {
   "cell_type": "code",
   "execution_count": 12,
   "metadata": {
    "collapsed": false
   },
   "outputs": [],
   "source": [
    "import semantic_methods_toolkit.python.utils.dataset_factory as DatasetFactory\n",
    "import numpy\n",
    "from semantic_methods_toolkit.python.unsupervised_technique.cnmf_experiment import CnmfExperiment"
   ]
  },
  {
   "cell_type": "code",
   "execution_count": 13,
   "metadata": {
    "collapsed": true
   },
   "outputs": [],
   "source": [
    "data, labels = DatasetFactory.dataset_factory(\n",
    "    'semantic_methods_toolkit/dataset/iris.mat', options={'data': 'data', 'labels': 'labels'})"
   ]
  },
  {
   "cell_type": "code",
   "execution_count": 14,
   "metadata": {
    "collapsed": true
   },
   "outputs": [
    {
     "name": "stdout",
     "output_type": "stream",
     "text": [
      "[[ 5.0999999   3.5         1.39999998  0.2       ]\n",
      " [ 4.9000001   3.          1.39999998  0.2       ]\n",
      " [ 4.69999981  3.20000005  1.29999995  0.2       ]\n",
      " [ 4.5999999   3.0999999   1.5         0.2       ]\n",
      " [ 5.          3.5999999   1.39999998  0.2       ]\n",
      " [ 5.4000001   3.9000001   1.70000005  0.40000001]\n",
      " [ 4.5999999   3.4000001   1.39999998  0.30000001]\n",
      " [ 5.          3.4000001   1.5         0.2       ]\n",
      " [ 4.4000001   2.9000001   1.39999998  0.2       ]\n",
      " [ 4.9000001   3.0999999   1.5         0.1       ]\n",
      " [ 5.4000001   3.70000005  1.5         0.2       ]\n",
      " [ 4.80000019  3.4000001   1.60000002  0.2       ]\n",
      " [ 4.80000019  3.          1.39999998  0.1       ]\n",
      " [ 4.30000019  3.          1.10000002  0.1       ]\n",
      " [ 5.80000019  4.          1.20000005  0.2       ]\n",
      " [ 5.69999981  4.4000001   1.5         0.40000001]\n",
      " [ 5.4000001   3.9000001   1.29999995  0.40000001]\n",
      " [ 5.0999999   3.5         1.39999998  0.30000001]\n",
      " [ 5.69999981  3.79999995  1.70000005  0.30000001]\n",
      " [ 5.0999999   3.79999995  1.5         0.30000001]\n",
      " [ 5.4000001   3.4000001   1.70000005  0.2       ]\n",
      " [ 5.0999999   3.70000005  1.5         0.40000001]\n",
      " [ 4.5999999   3.5999999   1.          0.2       ]\n",
      " [ 5.0999999   3.29999995  1.70000005  0.5       ]\n",
      " [ 4.80000019  3.4000001   1.89999998  0.2       ]\n",
      " [ 5.          3.          1.60000002  0.2       ]\n",
      " [ 5.          3.4000001   1.60000002  0.40000001]\n",
      " [ 5.19999981  3.5         1.5         0.2       ]\n",
      " [ 5.19999981  3.4000001   1.39999998  0.2       ]\n",
      " [ 4.69999981  3.20000005  1.60000002  0.2       ]\n",
      " [ 4.80000019  3.0999999   1.60000002  0.2       ]\n",
      " [ 5.4000001   3.4000001   1.5         0.40000001]\n",
      " [ 5.19999981  4.0999999   1.5         0.1       ]\n",
      " [ 5.5         4.19999981  1.39999998  0.2       ]\n",
      " [ 4.9000001   3.0999999   1.5         0.1       ]\n",
      " [ 5.          3.20000005  1.20000005  0.2       ]\n",
      " [ 5.5         3.5         1.29999995  0.2       ]\n",
      " [ 4.9000001   3.0999999   1.5         0.1       ]\n",
      " [ 4.4000001   3.          1.29999995  0.2       ]\n",
      " [ 5.0999999   3.4000001   1.5         0.2       ]\n",
      " [ 5.          3.5         1.29999995  0.30000001]\n",
      " [ 4.5         2.29999995  1.29999995  0.30000001]\n",
      " [ 4.4000001   3.20000005  1.29999995  0.2       ]\n",
      " [ 5.          3.5         1.60000002  0.60000002]\n",
      " [ 5.0999999   3.79999995  1.89999998  0.40000001]\n",
      " [ 4.80000019  3.          1.39999998  0.30000001]\n",
      " [ 5.0999999   3.79999995  1.60000002  0.2       ]\n",
      " [ 4.5999999   3.20000005  1.39999998  0.2       ]\n",
      " [ 5.30000019  3.70000005  1.5         0.2       ]\n",
      " [ 5.          3.29999995  1.39999998  0.2       ]\n",
      " [ 7.          3.20000005  4.69999981  1.39999998]\n",
      " [ 6.4000001   3.20000005  4.5         1.5       ]\n",
      " [ 6.9000001   3.0999999   4.9000001   1.5       ]\n",
      " [ 5.5         2.29999995  4.          1.29999995]\n",
      " [ 6.5         2.79999995  4.5999999   1.5       ]\n",
      " [ 5.69999981  2.79999995  4.5         1.29999995]\n",
      " [ 6.30000019  3.29999995  4.69999981  1.60000002]\n",
      " [ 4.9000001   2.4000001   3.29999995  1.        ]\n",
      " [ 6.5999999   2.9000001   4.5999999   1.29999995]\n",
      " [ 5.19999981  2.70000005  3.9000001   1.39999998]\n",
      " [ 5.          2.          3.5         1.        ]\n",
      " [ 5.9000001   3.          4.19999981  1.5       ]\n",
      " [ 6.          2.20000005  4.          1.        ]\n",
      " [ 6.0999999   2.9000001   4.69999981  1.39999998]\n",
      " [ 5.5999999   2.9000001   3.5999999   1.29999995]\n",
      " [ 6.69999981  3.0999999   4.4000001   1.39999998]\n",
      " [ 5.5999999   3.          4.5         1.5       ]\n",
      " [ 5.80000019  2.70000005  4.0999999   1.        ]\n",
      " [ 6.19999981  2.20000005  4.5         1.5       ]\n",
      " [ 5.5999999   2.5         3.9000001   1.10000002]\n",
      " [ 5.9000001   3.20000005  4.80000019  1.79999995]\n",
      " [ 6.0999999   2.79999995  4.          1.29999995]\n",
      " [ 6.30000019  2.5         4.9000001   1.5       ]\n",
      " [ 6.0999999   2.79999995  4.69999981  1.20000005]\n",
      " [ 6.4000001   2.9000001   4.30000019  1.29999995]\n",
      " [ 6.5999999   3.          4.4000001   1.39999998]\n",
      " [ 6.80000019  2.79999995  4.80000019  1.39999998]\n",
      " [ 6.69999981  3.          5.          1.70000005]\n",
      " [ 6.          2.9000001   4.5         1.5       ]\n",
      " [ 5.69999981  2.5999999   3.5         1.        ]\n",
      " [ 5.5         2.4000001   3.79999995  1.10000002]\n",
      " [ 5.5         2.4000001   3.70000005  1.        ]\n",
      " [ 5.80000019  2.70000005  3.9000001   1.20000005]\n",
      " [ 6.          2.70000005  5.0999999   1.60000002]\n",
      " [ 5.4000001   3.          4.5         1.5       ]\n",
      " [ 6.          3.4000001   4.5         1.60000002]\n",
      " [ 6.69999981  3.0999999   4.69999981  1.5       ]\n",
      " [ 6.30000019  2.29999995  4.4000001   1.29999995]\n",
      " [ 5.5999999   3.          4.0999999   1.29999995]\n",
      " [ 5.5         2.5         4.          1.29999995]\n",
      " [ 5.5         2.5999999   4.4000001   1.20000005]\n",
      " [ 6.0999999   3.          4.5999999   1.39999998]\n",
      " [ 5.80000019  2.5999999   4.          1.20000005]\n",
      " [ 5.          2.29999995  3.29999995  1.        ]\n",
      " [ 5.5999999   2.70000005  4.19999981  1.29999995]\n",
      " [ 5.69999981  3.          4.19999981  1.20000005]\n",
      " [ 5.69999981  2.9000001   4.19999981  1.29999995]\n",
      " [ 6.19999981  2.9000001   4.30000019  1.29999995]\n",
      " [ 5.0999999   2.5         3.          1.10000002]\n",
      " [ 5.69999981  2.79999995  4.0999999   1.29999995]\n",
      " [ 6.30000019  3.29999995  6.          2.5       ]\n",
      " [ 5.80000019  2.70000005  5.0999999   1.89999998]\n",
      " [ 7.0999999   3.          5.9000001   2.0999999 ]\n",
      " [ 6.30000019  2.9000001   5.5999999   1.79999995]\n",
      " [ 6.5         3.          5.80000019  2.20000005]\n",
      " [ 7.5999999   3.          6.5999999   2.0999999 ]\n",
      " [ 4.9000001   2.5         4.5         1.70000005]\n",
      " [ 7.30000019  2.9000001   6.30000019  1.79999995]\n",
      " [ 6.69999981  2.5         5.80000019  1.79999995]\n",
      " [ 7.19999981  3.5999999   6.0999999   2.5       ]\n",
      " [ 6.5         3.20000005  5.0999999   2.        ]\n",
      " [ 6.4000001   2.70000005  5.30000019  1.89999998]\n",
      " [ 6.80000019  3.          5.5         2.0999999 ]\n",
      " [ 5.69999981  2.5         5.          2.        ]\n",
      " [ 5.80000019  2.79999995  5.0999999   2.4000001 ]\n",
      " [ 6.4000001   3.20000005  5.30000019  2.29999995]\n",
      " [ 6.5         3.          5.5         1.79999995]\n",
      " [ 7.69999981  3.79999995  6.69999981  2.20000005]\n",
      " [ 7.69999981  2.5999999   6.9000001   2.29999995]\n",
      " [ 6.          2.20000005  5.          1.5       ]\n",
      " [ 6.9000001   3.20000005  5.69999981  2.29999995]\n",
      " [ 5.5999999   2.79999995  4.9000001   2.        ]\n",
      " [ 7.69999981  2.79999995  6.69999981  2.        ]\n",
      " [ 6.30000019  2.70000005  4.9000001   1.79999995]\n",
      " [ 6.69999981  3.29999995  5.69999981  2.0999999 ]\n",
      " [ 7.19999981  3.20000005  6.          1.79999995]\n",
      " [ 6.19999981  2.79999995  4.80000019  1.79999995]\n",
      " [ 6.0999999   3.          4.9000001   1.79999995]\n",
      " [ 6.4000001   2.79999995  5.5999999   2.0999999 ]\n",
      " [ 7.19999981  3.          5.80000019  1.60000002]\n",
      " [ 7.4000001   2.79999995  6.0999999   1.89999998]\n",
      " [ 7.9000001   3.79999995  6.4000001   2.        ]\n",
      " [ 6.4000001   2.79999995  5.5999999   2.20000005]\n",
      " [ 6.30000019  2.79999995  5.0999999   1.5       ]\n",
      " [ 6.0999999   2.5999999   5.5999999   1.39999998]\n",
      " [ 7.69999981  3.          6.0999999   2.29999995]\n",
      " [ 6.30000019  3.4000001   5.5999999   2.4000001 ]\n",
      " [ 6.4000001   3.0999999   5.5         1.79999995]\n",
      " [ 6.          3.          4.80000019  1.79999995]\n",
      " [ 6.9000001   3.0999999   5.4000001   2.0999999 ]\n",
      " [ 6.69999981  3.0999999   5.5999999   2.4000001 ]\n",
      " [ 6.9000001   3.0999999   5.0999999   2.29999995]\n",
      " [ 5.80000019  2.70000005  5.0999999   1.89999998]\n",
      " [ 6.80000019  3.20000005  5.9000001   2.29999995]\n",
      " [ 6.69999981  3.29999995  5.69999981  2.5       ]\n",
      " [ 6.69999981  3.          5.19999981  2.29999995]\n",
      " [ 6.30000019  2.5         5.          1.89999998]\n",
      " [ 6.5         3.          5.19999981  2.        ]\n",
      " [ 6.19999981  3.4000001   5.4000001   2.29999995]\n",
      " [ 5.9000001   3.          5.0999999   1.79999995]]\n"
     ]
    }
   ],
   "source": [
    "print data"
   ]
  },
  {
   "cell_type": "code",
   "execution_count": 5,
   "metadata": {
    "collapsed": true
   },
   "outputs": [],
   "source": [
    "options = {\n",
    "    'k': 3,\n",
    "    'termination_criterion': {'iter': 10000, 'tol': 1e-10},\n",
    "    'initialization': 'kkmeans'\n",
    "}"
   ]
  },
  {
   "cell_type": "code",
   "execution_count": 8,
   "metadata": {
    "collapsed": false
   },
   "outputs": [
    {
     "ename": "AttributeError",
     "evalue": "KernelKMeans instance has no attribute 'monitor'",
     "output_type": "error",
     "traceback": [
      "\u001b[1;31m---------------------------------------------------------------------------\u001b[0m",
      "\u001b[1;31mAttributeError\u001b[0m                            Traceback (most recent call last)",
      "\u001b[1;32m<ipython-input-8-8e7a99d3f843>\u001b[0m in \u001b[0;36m<module>\u001b[1;34m()\u001b[0m\n\u001b[1;32m----> 1\u001b[1;33m \u001b[0mcnmf_experiment\u001b[0m \u001b[1;33m=\u001b[0m \u001b[0mCnmfExperiment\u001b[0m\u001b[1;33m(\u001b[0m\u001b[0mnumpy\u001b[0m\u001b[1;33m.\u001b[0m\u001b[0mfloat32\u001b[0m\u001b[1;33m(\u001b[0m\u001b[0mdata\u001b[0m\u001b[1;33m)\u001b[0m\u001b[1;33m,\u001b[0m \u001b[0moptions\u001b[0m\u001b[1;33m)\u001b[0m\u001b[1;33m\u001b[0m\u001b[0m\n\u001b[0m",
      "\u001b[1;32m/home/rajaquep/semantic_methods_toolkit/python/unsupervised_technique/cnmf_experiment.py\u001b[0m in \u001b[0;36m__init__\u001b[1;34m(self, X, options)\u001b[0m\n\u001b[0;32m     24\u001b[0m \u001b[1;33m\u001b[0m\u001b[0m\n\u001b[0;32m     25\u001b[0m     \u001b[1;32mdef\u001b[0m \u001b[0m__init__\u001b[0m\u001b[1;33m(\u001b[0m\u001b[0mself\u001b[0m\u001b[1;33m,\u001b[0m \u001b[0mX\u001b[0m\u001b[1;33m,\u001b[0m \u001b[0moptions\u001b[0m\u001b[1;33m)\u001b[0m\u001b[1;33m:\u001b[0m\u001b[1;33m\u001b[0m\u001b[0m\n\u001b[1;32m---> 26\u001b[1;33m         \u001b[0mself\u001b[0m\u001b[1;33m.\u001b[0m\u001b[0mreset\u001b[0m\u001b[1;33m(\u001b[0m\u001b[0mX\u001b[0m\u001b[1;33m,\u001b[0m \u001b[0moptions\u001b[0m\u001b[1;33m)\u001b[0m\u001b[1;33m\u001b[0m\u001b[0m\n\u001b[0m\u001b[0;32m     27\u001b[0m \u001b[1;33m\u001b[0m\u001b[0m\n\u001b[0;32m     28\u001b[0m     \u001b[1;32mdef\u001b[0m \u001b[0mreset\u001b[0m\u001b[1;33m(\u001b[0m\u001b[0mself\u001b[0m\u001b[1;33m,\u001b[0m \u001b[0mX\u001b[0m\u001b[1;33m,\u001b[0m \u001b[0moptions\u001b[0m\u001b[1;33m)\u001b[0m\u001b[1;33m:\u001b[0m\u001b[1;33m\u001b[0m\u001b[0m\n",
      "\u001b[1;32m/home/rajaquep/semantic_methods_toolkit/python/unsupervised_technique/cnmf_experiment.py\u001b[0m in \u001b[0;36mreset\u001b[1;34m(self, X, options)\u001b[0m\n\u001b[0;32m     66\u001b[0m \u001b[1;33m\u001b[0m\u001b[0m\n\u001b[0;32m     67\u001b[0m         \u001b[1;31m# Matrix initialization\u001b[0m\u001b[1;33m\u001b[0m\u001b[1;33m\u001b[0m\u001b[0m\n\u001b[1;32m---> 68\u001b[1;33m         \u001b[0mself\u001b[0m\u001b[1;33m.\u001b[0m\u001b[0mmatrix_init\u001b[0m\u001b[1;33m(\u001b[0m\u001b[0mX\u001b[0m\u001b[1;33m,\u001b[0m \u001b[0moptions\u001b[0m\u001b[1;33m)\u001b[0m\u001b[1;33m\u001b[0m\u001b[0m\n\u001b[0m\u001b[0;32m     69\u001b[0m \u001b[1;33m\u001b[0m\u001b[0m\n\u001b[0;32m     70\u001b[0m     \u001b[1;32mdef\u001b[0m \u001b[0mtermination_critirion_init\u001b[0m\u001b[1;33m(\u001b[0m\u001b[0mself\u001b[0m\u001b[1;33m,\u001b[0m \u001b[0mX\u001b[0m\u001b[1;33m,\u001b[0m \u001b[0moptions\u001b[0m\u001b[1;33m)\u001b[0m\u001b[1;33m:\u001b[0m\u001b[1;33m\u001b[0m\u001b[0m\n",
      "\u001b[1;32m/home/rajaquep/semantic_methods_toolkit/python/unsupervised_technique/cnmf_experiment.py\u001b[0m in \u001b[0;36mmatrix_init\u001b[1;34m(self, X, options)\u001b[0m\n\u001b[0;32m    120\u001b[0m             kmeans.train_all(self.X,\n\u001b[0;32m    121\u001b[0m                              \u001b[0mtermination_criterion\u001b[0m\u001b[1;33m=\u001b[0m\u001b[0mEpochCounter\u001b[0m\u001b[1;33m(\u001b[0m\u001b[0mmax_epochs\u001b[0m\u001b[1;33m=\u001b[0m\u001b[1;36m10\u001b[0m\u001b[1;33m)\u001b[0m\u001b[1;33m,\u001b[0m\u001b[1;33m\u001b[0m\u001b[0m\n\u001b[1;32m--> 122\u001b[1;33m                              kernel_matrix=self.cnmf._kernel_matrix)\n\u001b[0m\u001b[0;32m    123\u001b[0m             \u001b[0mself\u001b[0m\u001b[1;33m.\u001b[0m\u001b[0mW\u001b[0m \u001b[1;33m=\u001b[0m \u001b[0mnumpy\u001b[0m\u001b[1;33m.\u001b[0m\u001b[0masarray\u001b[0m\u001b[1;33m(\u001b[0m\u001b[0mkmeans\u001b[0m\u001b[1;33m.\u001b[0m\u001b[0mget_weights\u001b[0m\u001b[1;33m(\u001b[0m\u001b[1;33m)\u001b[0m\u001b[1;33m)\u001b[0m\u001b[1;33m\u001b[0m\u001b[0m\n\u001b[0;32m    124\u001b[0m             \u001b[0mself\u001b[0m\u001b[1;33m.\u001b[0m\u001b[0mcnmf\u001b[0m\u001b[1;33m.\u001b[0m\u001b[0minit_H\u001b[0m\u001b[1;33m(\u001b[0m\u001b[1;33m)\u001b[0m\u001b[1;33m\u001b[0m\u001b[0m\n",
      "\u001b[1;32m/home/rajaquep/semantic_methods_toolkit/python/kernel_semantic_embedding_methods/model/kernel_kmeans.py\u001b[0m in \u001b[0;36mtrain_all\u001b[1;34m(self, dataset, termination_criterion, kernel_matrix)\u001b[0m\n\u001b[0;32m    113\u001b[0m                 \u001b[1;32mbreak\u001b[0m\u001b[1;33m\u001b[0m\u001b[0m\n\u001b[0;32m    114\u001b[0m             \u001b[0mself\u001b[0m\u001b[1;33m.\u001b[0m\u001b[0m_W\u001b[0m \u001b[1;33m=\u001b[0m \u001b[0mW\u001b[0m\u001b[1;33m\u001b[0m\u001b[0m\n\u001b[1;32m--> 115\u001b[1;33m             \u001b[0mkeep_training\u001b[0m \u001b[1;33m=\u001b[0m \u001b[0mself\u001b[0m\u001b[1;33m.\u001b[0m\u001b[0mcontinue_learning\u001b[0m\u001b[1;33m(\u001b[0m\u001b[0mtermination_criterion\u001b[0m\u001b[1;33m)\u001b[0m\u001b[1;33m\u001b[0m\u001b[0m\n\u001b[0m\u001b[0;32m    116\u001b[0m \u001b[1;33m\u001b[0m\u001b[0m\n\u001b[0;32m    117\u001b[0m     \u001b[1;32mdef\u001b[0m \u001b[0mcontinue_learning\u001b[0m\u001b[1;33m(\u001b[0m\u001b[0mself\u001b[0m\u001b[1;33m,\u001b[0m \u001b[0mtermination_criterion\u001b[0m\u001b[1;33m)\u001b[0m\u001b[1;33m:\u001b[0m\u001b[1;33m\u001b[0m\u001b[0m\n",
      "\u001b[1;32m/home/rajaquep/semantic_methods_toolkit/python/kernel_semantic_embedding_methods/model/kernel_kmeans.py\u001b[0m in \u001b[0;36mcontinue_learning\u001b[1;34m(self, termination_criterion)\u001b[0m\n\u001b[0;32m    119\u001b[0m             \u001b[1;32mreturn\u001b[0m \u001b[0mTrue\u001b[0m\u001b[1;33m\u001b[0m\u001b[0m\n\u001b[0;32m    120\u001b[0m         \u001b[1;32melse\u001b[0m\u001b[1;33m:\u001b[0m\u001b[1;33m\u001b[0m\u001b[0m\n\u001b[1;32m--> 121\u001b[1;33m             \u001b[1;32mreturn\u001b[0m \u001b[0mtermination_criterion\u001b[0m\u001b[1;33m.\u001b[0m\u001b[0mcontinue_learning\u001b[0m\u001b[1;33m(\u001b[0m\u001b[0mself\u001b[0m\u001b[1;33m)\u001b[0m\u001b[1;33m\u001b[0m\u001b[0m\n\u001b[0m\u001b[0;32m    122\u001b[0m \u001b[1;33m\u001b[0m\u001b[0m\n\u001b[0;32m    123\u001b[0m     \u001b[1;32mdef\u001b[0m \u001b[0m__call__\u001b[0m\u001b[1;33m(\u001b[0m\u001b[0mself\u001b[0m\u001b[1;33m,\u001b[0m \u001b[0mX\u001b[0m\u001b[1;33m)\u001b[0m\u001b[1;33m:\u001b[0m\u001b[1;33m\u001b[0m\u001b[0m\n",
      "\u001b[1;32m/opt/pylearn2/pylearn2/termination_criteria/__init__.py\u001b[0m in \u001b[0;36mcontinue_learning\u001b[1;34m(self, model)\u001b[0m\n\u001b[0;32m    228\u001b[0m     \u001b[1;32mdef\u001b[0m \u001b[0mcontinue_learning\u001b[0m\u001b[1;33m(\u001b[0m\u001b[0mself\u001b[0m\u001b[1;33m,\u001b[0m \u001b[0mmodel\u001b[0m\u001b[1;33m)\u001b[0m\u001b[1;33m:\u001b[0m\u001b[1;33m\u001b[0m\u001b[0m\n\u001b[0;32m    229\u001b[0m         \u001b[1;32mif\u001b[0m \u001b[1;32mnot\u001b[0m \u001b[0mhasattr\u001b[0m\u001b[1;33m(\u001b[0m\u001b[0mself\u001b[0m\u001b[1;33m,\u001b[0m \u001b[1;34m\"_epochs_offset\"\u001b[0m\u001b[1;33m)\u001b[0m\u001b[1;33m:\u001b[0m\u001b[1;33m\u001b[0m\u001b[0m\n\u001b[1;32m--> 230\u001b[1;33m             \u001b[0mself\u001b[0m\u001b[1;33m.\u001b[0m\u001b[0minitialize\u001b[0m\u001b[1;33m(\u001b[0m\u001b[0mmodel\u001b[0m\u001b[1;33m)\u001b[0m\u001b[1;33m\u001b[0m\u001b[0m\n\u001b[0m\u001b[0;32m    231\u001b[0m \u001b[1;33m\u001b[0m\u001b[0m\n\u001b[0;32m    232\u001b[0m         \u001b[0mcurrent_epoch\u001b[0m \u001b[1;33m=\u001b[0m \u001b[0mmodel\u001b[0m\u001b[1;33m.\u001b[0m\u001b[0mmonitor\u001b[0m\u001b[1;33m.\u001b[0m\u001b[0mget_epochs_seen\u001b[0m\u001b[1;33m(\u001b[0m\u001b[1;33m)\u001b[0m \u001b[1;33m-\u001b[0m \u001b[0mself\u001b[0m\u001b[1;33m.\u001b[0m\u001b[0m_epochs_offset\u001b[0m\u001b[1;33m\u001b[0m\u001b[0m\n",
      "\u001b[1;32m/opt/pylearn2/pylearn2/termination_criteria/__init__.py\u001b[0m in \u001b[0;36minitialize\u001b[1;34m(self, model)\u001b[0m\n\u001b[0;32m    221\u001b[0m     \u001b[1;32mdef\u001b[0m \u001b[0minitialize\u001b[0m\u001b[1;33m(\u001b[0m\u001b[0mself\u001b[0m\u001b[1;33m,\u001b[0m \u001b[0mmodel\u001b[0m\u001b[1;33m)\u001b[0m\u001b[1;33m:\u001b[0m\u001b[1;33m\u001b[0m\u001b[0m\n\u001b[0;32m    222\u001b[0m         \u001b[1;32mif\u001b[0m \u001b[0mself\u001b[0m\u001b[1;33m.\u001b[0m\u001b[0m_new_epochs\u001b[0m\u001b[1;33m:\u001b[0m\u001b[1;33m\u001b[0m\u001b[0m\n\u001b[1;32m--> 223\u001b[1;33m             \u001b[0mself\u001b[0m\u001b[1;33m.\u001b[0m\u001b[0m_epochs_offset\u001b[0m \u001b[1;33m=\u001b[0m \u001b[0mmodel\u001b[0m\u001b[1;33m.\u001b[0m\u001b[0mmonitor\u001b[0m\u001b[1;33m.\u001b[0m\u001b[0mget_epochs_seen\u001b[0m\u001b[1;33m(\u001b[0m\u001b[1;33m)\u001b[0m\u001b[1;33m\u001b[0m\u001b[0m\n\u001b[0m\u001b[0;32m    224\u001b[0m         \u001b[1;32melse\u001b[0m\u001b[1;33m:\u001b[0m\u001b[1;33m\u001b[0m\u001b[0m\n\u001b[0;32m    225\u001b[0m             \u001b[0mself\u001b[0m\u001b[1;33m.\u001b[0m\u001b[0m_epochs_offset\u001b[0m \u001b[1;33m=\u001b[0m \u001b[1;36m0\u001b[0m\u001b[1;33m\u001b[0m\u001b[0m\n",
      "\u001b[1;31mAttributeError\u001b[0m: KernelKMeans instance has no attribute 'monitor'"
     ]
    }
   ],
   "source": [
    "cnmf_experiment = CnmfExperiment(numpy.float32(data), options)"
   ]
  },
  {
   "cell_type": "code",
   "execution_count": null,
   "metadata": {
    "collapsed": true
   },
   "outputs": [],
   "source": [
    "labels_pred, results = cnmf_experiment()"
   ]
  },
  {
   "cell_type": "code",
   "execution_count": null,
   "metadata": {
    "collapsed": true
   },
   "outputs": [],
   "source": [
    "print (\n",
    "    (data - numpy.dot(numpy.dot(results[\"H\"], results[\"W\"]), data)) ** 2).sum() / (.0 + 150)"
   ]
  },
  {
   "cell_type": "markdown",
   "metadata": {},
   "source": [
    "##CNMF algorithm by Paez"
   ]
  },
  {
   "cell_type": "code",
   "execution_count": 17,
   "metadata": {
    "collapsed": false
   },
   "outputs": [
    {
     "ename": "ImportError",
     "evalue": "No module named kmf",
     "output_type": "error",
     "traceback": [
      "\u001b[1;31m---------------------------------------------------------------------------\u001b[0m",
      "\u001b[1;31mImportError\u001b[0m                               Traceback (most recent call last)",
      "\u001b[1;32m<ipython-input-17-e7ed88ba28fb>\u001b[0m in \u001b[0;36m<module>\u001b[1;34m()\u001b[0m\n\u001b[1;32m----> 1\u001b[1;33m \u001b[1;32mfrom\u001b[0m \u001b[0mkmf\u001b[0m \u001b[1;32mimport\u001b[0m \u001b[0mCNMF\u001b[0m\u001b[1;33m\u001b[0m\u001b[0m\n\u001b[0m",
      "\u001b[1;31mImportError\u001b[0m: No module named kmf"
     ]
    }
   ],
   "source": [
    "from kmf import CNMF"
   ]
  },
  {
   "cell_type": "code",
   "execution_count": null,
   "metadata": {
    "collapsed": true
   },
   "outputs": [],
   "source": []
  }
 ],
 "metadata": {
  "kernelspec": {
   "display_name": "Python 2",
   "language": "python",
   "name": "python2"
  },
  "language_info": {
   "codemirror_mode": {
    "name": "ipython",
    "version": 2
   },
   "file_extension": ".py",
   "mimetype": "text/x-python",
   "name": "python",
   "nbconvert_exporter": "python",
   "pygments_lexer": "ipython2",
   "version": "2.7.10"
  }
 },
 "nbformat": 4,
 "nbformat_minor": 0
}
