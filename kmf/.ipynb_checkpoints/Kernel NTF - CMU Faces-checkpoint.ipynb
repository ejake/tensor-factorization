{
 "cells": [
  {
   "cell_type": "markdown",
   "metadata": {},
   "source": [
    "#Kernel Non-negative Tensor Factorization"
   ]
  },
  {
   "cell_type": "code",
   "execution_count": 1,
   "metadata": {
    "collapsed": false
   },
   "outputs": [],
   "source": [
    "import numpy as np\n",
    "from sklearn.metrics import pairwise_kernels as K #to compute kernel matrix\n",
    "import scipy.io as sio #to load mat files\n",
    "from OKMF import OKMF #Online Kernel Matrix Factorization\n",
    "from kntf import Kntf\n",
    "import matplotlib.pyplot as plt"
   ]
  },
  {
   "cell_type": "markdown",
   "metadata": {},
   "source": [
    "#1. Loading dataset CMU Faces"
   ]
  },
  {
   "cell_type": "markdown",
   "metadata": {},
   "source": [
    "$\\mathcal{TF}\\in\\mathbb{R}_+^{30\\times11\\times21\\times1024}$"
   ]
  },
  {
   "cell_type": "code",
   "execution_count": 2,
   "metadata": {
    "collapsed": false
   },
   "outputs": [
    {
     "data": {
      "text/plain": [
       "[('FullTensor', (30, 11, 21, 1024), 'uint8')]"
      ]
     },
     "execution_count": 2,
     "metadata": {},
     "output_type": "execute_result"
    }
   ],
   "source": [
    "sio.whosmat('../datasets/CMU(30x11x21x1024).mat')"
   ]
  },
  {
   "cell_type": "code",
   "execution_count": 3,
   "metadata": {
    "collapsed": true
   },
   "outputs": [],
   "source": [
    "matTF = sio.loadmat('../datasets/CMU(30x11x21x1024).mat')#loading tensor of formatted faces' images"
   ]
  },
  {
   "cell_type": "code",
   "execution_count": 4,
   "metadata": {
    "collapsed": true
   },
   "outputs": [],
   "source": [
    "TF = matTF['FullTensor']"
   ]
  },
  {
   "cell_type": "code",
   "execution_count": 5,
   "metadata": {
    "collapsed": false
   },
   "outputs": [
    {
     "data": {
      "text/plain": [
       "(30, 11, 21, 1024)"
      ]
     },
     "execution_count": 5,
     "metadata": {},
     "output_type": "execute_result"
    }
   ],
   "source": [
    "TF.shape"
   ]
  },
  {
   "cell_type": "markdown",
   "metadata": {},
   "source": [
    "1.1 Tensor matrization"
   ]
  },
  {
   "cell_type": "markdown",
   "metadata": {},
   "source": [
    "$MF\\in\\mathbb{R}_+^{6930\\times1024}$"
   ]
  },
  {
   "cell_type": "code",
   "execution_count": 6,
   "metadata": {
    "collapsed": true
   },
   "outputs": [],
   "source": [
    "MF = np.reshape(TF,(30*11*21,1024))"
   ]
  },
  {
   "cell_type": "markdown",
   "metadata": {},
   "source": [
    "#2. Compute Online Kernel Matrix Factorization"
   ]
  },
  {
   "cell_type": "markdown",
   "metadata": {},
   "source": [
    "2.1 Computing Online kernel-NMF $\\phi(X) \\approx \\phi(X)WH$ (Esteban algorithm adaptation)"
   ]
  },
  {
   "cell_type": "markdown",
   "metadata": {},
   "source": [
    "$\\min_{W,h_i}\\frac{1}{2}||\\phi(x_i)-\\phi(X)Wh_i||^2+\\frac{\\lambda}{2}||W||_F^2+\\frac{\\alpha}{2}||h_i||_F^2$"
   ]
  },
  {
   "cell_type": "markdown",
   "metadata": {},
   "source": [
    "Algorithm iterate assesing the following updated rules (SGD):\n",
    "\n",
    "$h_t = (W^T_{t-1}K(X,X)W_{t-1}-\\alpha I) W^T_{t-1}K(X,x_t)$\n",
    "\n",
    "$W_t = W_{t-1}-\\gamma(k(X,x_t)h_t^T-k(X,X)W_{t-1}h_th_t^T+\\lambda W_{t-1})$"
   ]
  },
  {
   "cell_type": "code",
   "execution_count": 7,
   "metadata": {
    "collapsed": true
   },
   "outputs": [],
   "source": [
    "#Parameters:\n",
    "Gamma = 0.01\n",
    "Lambda = 0.0001\n",
    "Alpha = 0.4\n",
    "sigma = 2**1"
   ]
  },
  {
   "cell_type": "code",
   "execution_count": 8,
   "metadata": {
    "collapsed": false
   },
   "outputs": [],
   "source": [
    "#online kernel NMF algorithm (by Esteban)\n",
    "ok = OKMF(6930,10,100,2,Gamma,Lambda,Alpha,'rbf',gamma=sigma)\n",
    "#(budgetSize,latentTopics,minibatchSize,epochs,Gamma,Lambda,Alpha,metric,**kwds):"
   ]
  },
  {
   "cell_type": "code",
   "execution_count": 9,
   "metadata": {
    "collapsed": false
   },
   "outputs": [],
   "source": [
    "ok.fit(MF,calculateErrors=True)"
   ]
  },
  {
   "cell_type": "code",
   "execution_count": 11,
   "metadata": {
    "collapsed": false
   },
   "outputs": [
    {
     "data": {
      "text/plain": [
       "array([ -2.48805954e+10,  -2.57822425e+10,  -2.57959050e+10])"
      ]
     },
     "execution_count": 11,
     "metadata": {},
     "output_type": "execute_result"
    }
   ],
   "source": [
    "ok.trainErrors"
   ]
  },
  {
   "cell_type": "markdown",
   "metadata": {},
   "source": [
    "2.2 Compute error as $||WH-\\phi(X)||_F/||\\phi(X)||_F$"
   ]
  },
  {
   "cell_type": "code",
   "execution_count": null,
   "metadata": {
    "collapsed": true
   },
   "outputs": [],
   "source": []
  },
  {
   "cell_type": "code",
   "execution_count": 16,
   "metadata": {
    "collapsed": true
   },
   "outputs": [],
   "source": [
    "error = np.linalg.norm(np.dot(ok.W,ok.H)- ,'fro')/np.linalg.norm(ok._KB,'fro')"
   ]
  },
  {
   "cell_type": "code",
   "execution_count": 17,
   "metadata": {
    "collapsed": false
   },
   "outputs": [
    {
     "name": "stdout",
     "output_type": "stream",
     "text": [
      "0.999999999973\n"
     ]
    }
   ],
   "source": [
    "print error"
   ]
  },
  {
   "cell_type": "markdown",
   "metadata": {},
   "source": [
    "2.3 Parameters' selection"
   ]
  },
  {
   "cell_type": "code",
   "execution_count": null,
   "metadata": {
    "collapsed": true
   },
   "outputs": [],
   "source": [
    "kf = KFold(X.shape[0],n_folds=4,shuffle=True)"
   ]
  },
  {
   "cell_type": "code",
   "execution_count": null,
   "metadata": {
    "collapsed": true
   },
   "outputs": [],
   "source": [
    "f = open('Results_cmu_faces.csv','w')\n",
    "f.write('sigma,Budget,Gamma,Lambda,Alpha,tr0,tr1,tr2,ts0,ts1,ts2,time\\n')\n",
    "for exp in [-9,-5,-1,0,1,5,9]:\n",
    "        sigma = 2**exp\n",
    "        for Gamma in [0.01,0.1,0.8]:\n",
    "            for Lambda in [0.0001, 0.1,0.3]:\n",
    "                for Alpha in [0.3,0.4,0.6]:\n",
    "                    suma0 = 0.0\n",
    "                    suma1 = 0.0\n",
    "                    suma2 = 0.0\n",
    "                    suma3 = 0.0\n",
    "                    suma4 = 0.0\n",
    "                    suma5 = 0.0\n",
    "                    time = 0.0\n",
    "                    c += 1\n",
    "                    print 'rbf',(c / 224.0)\n",
    "                    #for train,test in kf:\n",
    "                    #    ok = OKMF(budget,10,100,2,Gamma,Lambda,Alpha,'rbf',gamma=sigma)\n",
    "                    #    t0 = clock()\n",
    "                    #    ok.fit(X,Xt,True)\n",
    "                    #    ok.fit(X,calculateErrors=True)\n",
    "                    #    time += clock() - t0\n",
    "                    #    suma0 += ok.trainErrors[0]\n",
    "                    #    suma1 += ok.trainErrors[1]\n",
    "                    #    suma2 += ok.trainErrors[2]\n",
    "                    #    suma3 += ok.validationErrors[0]\n",
    "                    #    suma4 += ok.validationErrors[1]\n",
    "                    #    suma5 += ok.validationErrors[2]\n",
    "                    ok = OKMF(budget,10,100,5,Gamma,Lambda,Alpha,'rbf',gamma=sigma)\n",
    "                    t0 = clock()\n",
    "                    ok.fit(X,Xt,True)\n",
    "                    ok.fit(X,calculateErrors=True)\n",
    "                    time += clock() - t0\n",
    "                    suma0 += ok.trainErrors[0]\n",
    "                    suma1 += ok.trainErrors[1]\n",
    "                    suma2 += ok.trainErrors[2]\n",
    "                    suma3 += ok.trainErrors[2]\n",
    "                    suma4 += ok.trainErrors[2]\n",
    "                    suma5 += ok.trainErrors[2]\n",
    "                    suma0/=4.0\n",
    "                    suma1/=4.0\n",
    "                    suma2/=4.0\n",
    "                    suma3/=4.0\n",
    "                    suma4/=4.0\n",
    "                    suma5/=4.0\n",
    "                    time/=4.0\n",
    "                    val = (sigma,budget,Gamma,Lambda,Alpha)\n",
    "                    val += (suma0,suma1,suma2,suma3,suma4,suma5,time)\n",
    "                    s = '{},{},{},{},{},{},{},{},{},{},{},{}\\n'.format(*val)\n",
    "                    f.write(s)\n",
    "f.close()"
   ]
  }
 ],
 "metadata": {
  "kernelspec": {
   "display_name": "Python 2",
   "language": "python",
   "name": "python2"
  },
  "language_info": {
   "codemirror_mode": {
    "name": "ipython",
    "version": 2
   },
   "file_extension": ".py",
   "mimetype": "text/x-python",
   "name": "python",
   "nbconvert_exporter": "python",
   "pygments_lexer": "ipython2",
   "version": "2.7.10"
  }
 },
 "nbformat": 4,
 "nbformat_minor": 0
}
